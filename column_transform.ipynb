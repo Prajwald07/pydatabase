{
 "cells": [
  {
   "cell_type": "markdown",
   "id": "a16c1bcc",
   "metadata": {},
   "source": [
    "# COLUMNS TRANSFORMATION"
   ]
  },
  {
   "cell_type": "code",
   "execution_count": 1,
   "id": "83f29b29",
   "metadata": {},
   "outputs": [],
   "source": [
    "from sklearn.preprocessing import OneHotEncoder\n",
    "from sklearn.impute import SimpleImputer\n",
    "from sklearn.preprocessing import OrdinalEncoder"
   ]
  },
  {
   "cell_type": "code",
   "execution_count": 2,
   "id": "113a22a3",
   "metadata": {},
   "outputs": [],
   "source": [
    "import pandas as pd\n",
    "import numpy as np"
   ]
  },
  {
   "cell_type": "code",
   "execution_count": 3,
   "id": "8fdb548d",
   "metadata": {},
   "outputs": [],
   "source": [
    "df=pd.read_csv('dataset/covid.csv')"
   ]
  },
  {
   "cell_type": "code",
   "execution_count": 4,
   "id": "40954d96",
   "metadata": {},
   "outputs": [
    {
     "data": {
      "text/html": [
       "<div>\n",
       "<style scoped>\n",
       "    .dataframe tbody tr th:only-of-type {\n",
       "        vertical-align: middle;\n",
       "    }\n",
       "\n",
       "    .dataframe tbody tr th {\n",
       "        vertical-align: top;\n",
       "    }\n",
       "\n",
       "    .dataframe thead th {\n",
       "        text-align: right;\n",
       "    }\n",
       "</style>\n",
       "<table border=\"1\" class=\"dataframe\">\n",
       "  <thead>\n",
       "    <tr style=\"text-align: right;\">\n",
       "      <th></th>\n",
       "      <th>age</th>\n",
       "      <th>gender</th>\n",
       "      <th>fever</th>\n",
       "      <th>cough</th>\n",
       "      <th>city</th>\n",
       "      <th>has_covid</th>\n",
       "    </tr>\n",
       "  </thead>\n",
       "  <tbody>\n",
       "    <tr>\n",
       "      <th>9</th>\n",
       "      <td>64</td>\n",
       "      <td>Female</td>\n",
       "      <td>101.0</td>\n",
       "      <td>Mild</td>\n",
       "      <td>Delhi</td>\n",
       "      <td>No</td>\n",
       "    </tr>\n",
       "    <tr>\n",
       "      <th>39</th>\n",
       "      <td>50</td>\n",
       "      <td>Female</td>\n",
       "      <td>103.0</td>\n",
       "      <td>Mild</td>\n",
       "      <td>Kolkata</td>\n",
       "      <td>No</td>\n",
       "    </tr>\n",
       "    <tr>\n",
       "      <th>64</th>\n",
       "      <td>42</td>\n",
       "      <td>Male</td>\n",
       "      <td>104.0</td>\n",
       "      <td>Mild</td>\n",
       "      <td>Mumbai</td>\n",
       "      <td>No</td>\n",
       "    </tr>\n",
       "    <tr>\n",
       "      <th>98</th>\n",
       "      <td>5</td>\n",
       "      <td>Female</td>\n",
       "      <td>98.0</td>\n",
       "      <td>Strong</td>\n",
       "      <td>Mumbai</td>\n",
       "      <td>No</td>\n",
       "    </tr>\n",
       "    <tr>\n",
       "      <th>93</th>\n",
       "      <td>27</td>\n",
       "      <td>Male</td>\n",
       "      <td>100.0</td>\n",
       "      <td>Mild</td>\n",
       "      <td>Kolkata</td>\n",
       "      <td>Yes</td>\n",
       "    </tr>\n",
       "  </tbody>\n",
       "</table>\n",
       "</div>"
      ],
      "text/plain": [
       "    age  gender  fever   cough     city has_covid\n",
       "9    64  Female  101.0    Mild    Delhi        No\n",
       "39   50  Female  103.0    Mild  Kolkata        No\n",
       "64   42    Male  104.0    Mild   Mumbai        No\n",
       "98    5  Female   98.0  Strong   Mumbai        No\n",
       "93   27    Male  100.0    Mild  Kolkata       Yes"
      ]
     },
     "execution_count": 4,
     "metadata": {},
     "output_type": "execute_result"
    }
   ],
   "source": [
    "df.sample(5)"
   ]
  },
  {
   "cell_type": "code",
   "execution_count": 5,
   "id": "e38891bb",
   "metadata": {},
   "outputs": [
    {
     "data": {
      "text/html": [
       "<div>\n",
       "<style scoped>\n",
       "    .dataframe tbody tr th:only-of-type {\n",
       "        vertical-align: middle;\n",
       "    }\n",
       "\n",
       "    .dataframe tbody tr th {\n",
       "        vertical-align: top;\n",
       "    }\n",
       "\n",
       "    .dataframe thead th {\n",
       "        text-align: right;\n",
       "    }\n",
       "</style>\n",
       "<table border=\"1\" class=\"dataframe\">\n",
       "  <thead>\n",
       "    <tr style=\"text-align: right;\">\n",
       "      <th></th>\n",
       "      <th>fever</th>\n",
       "    </tr>\n",
       "  </thead>\n",
       "  <tbody>\n",
       "    <tr>\n",
       "      <th>0</th>\n",
       "      <td>103.0</td>\n",
       "    </tr>\n",
       "    <tr>\n",
       "      <th>1</th>\n",
       "      <td>100.0</td>\n",
       "    </tr>\n",
       "    <tr>\n",
       "      <th>2</th>\n",
       "      <td>101.0</td>\n",
       "    </tr>\n",
       "    <tr>\n",
       "      <th>3</th>\n",
       "      <td>98.0</td>\n",
       "    </tr>\n",
       "    <tr>\n",
       "      <th>4</th>\n",
       "      <td>101.0</td>\n",
       "    </tr>\n",
       "    <tr>\n",
       "      <th>...</th>\n",
       "      <td>...</td>\n",
       "    </tr>\n",
       "    <tr>\n",
       "      <th>95</th>\n",
       "      <td>104.0</td>\n",
       "    </tr>\n",
       "    <tr>\n",
       "      <th>96</th>\n",
       "      <td>101.0</td>\n",
       "    </tr>\n",
       "    <tr>\n",
       "      <th>97</th>\n",
       "      <td>101.0</td>\n",
       "    </tr>\n",
       "    <tr>\n",
       "      <th>98</th>\n",
       "      <td>98.0</td>\n",
       "    </tr>\n",
       "    <tr>\n",
       "      <th>99</th>\n",
       "      <td>98.0</td>\n",
       "    </tr>\n",
       "  </tbody>\n",
       "</table>\n",
       "<p>100 rows × 1 columns</p>\n",
       "</div>"
      ],
      "text/plain": [
       "    fever\n",
       "0   103.0\n",
       "1   100.0\n",
       "2   101.0\n",
       "3    98.0\n",
       "4   101.0\n",
       "..    ...\n",
       "95  104.0\n",
       "96  101.0\n",
       "97  101.0\n",
       "98   98.0\n",
       "99   98.0\n",
       "\n",
       "[100 rows x 1 columns]"
      ]
     },
     "execution_count": 5,
     "metadata": {},
     "output_type": "execute_result"
    }
   ],
   "source": [
    "df[['fever']]"
   ]
  },
  {
   "cell_type": "code",
   "execution_count": 6,
   "id": "0820153f",
   "metadata": {},
   "outputs": [
    {
     "data": {
      "text/plain": [
       "age           0\n",
       "gender        0\n",
       "fever        10\n",
       "cough         0\n",
       "city          0\n",
       "has_covid     0\n",
       "dtype: int64"
      ]
     },
     "execution_count": 6,
     "metadata": {},
     "output_type": "execute_result"
    }
   ],
   "source": [
    "df.isnull().sum()"
   ]
  },
  {
   "cell_type": "markdown",
   "id": "3f29fab6",
   "metadata": {},
   "source": [
    "# 1. Aam Zindagi"
   ]
  },
  {
   "cell_type": "code",
   "execution_count": 7,
   "id": "753d1eec",
   "metadata": {},
   "outputs": [
    {
     "data": {
      "text/plain": [
       "(100, 1)"
      ]
     },
     "execution_count": 7,
     "metadata": {},
     "output_type": "execute_result"
    }
   ],
   "source": [
    "# adding simple imputer to fever col\n",
    "si=SimpleImputer()\n",
    "df_fever=si.fit_transform(df[['fever']])\n",
    "df_fever.shape\n",
    "#df_fever"
   ]
  },
  {
   "cell_type": "code",
   "execution_count": 8,
   "id": "c5b257d7",
   "metadata": {},
   "outputs": [
    {
     "data": {
      "text/plain": [
       "(100, 1)"
      ]
     },
     "execution_count": 8,
     "metadata": {},
     "output_type": "execute_result"
    }
   ],
   "source": [
    "#ordinal encoding -> cough\n",
    "oe=OrdinalEncoder(categories=[['Mild','Strong']])\n",
    "df_cough=oe.fit_transform(df[['cough']])\n",
    "df_cough.shape\n",
    "#df_cough"
   ]
  },
  {
   "cell_type": "code",
   "execution_count": 9,
   "id": "d910d7df",
   "metadata": {},
   "outputs": [
    {
     "data": {
      "text/plain": [
       "(100, 4)"
      ]
     },
     "execution_count": 9,
     "metadata": {},
     "output_type": "execute_result"
    }
   ],
   "source": [
    "#oneHotEncoder -> gender,city\n",
    "ohe=OneHotEncoder(drop='first',sparse=False)\n",
    "df_gender_city=ohe.fit_transform(df[['gender','city']])\n",
    "df_gender_city.shape\n",
    "#df_gender_city"
   ]
  },
  {
   "cell_type": "code",
   "execution_count": 10,
   "id": "45d621c2",
   "metadata": {},
   "outputs": [
    {
     "data": {
      "text/plain": [
       "(100, 2)"
      ]
     },
     "execution_count": 10,
     "metadata": {},
     "output_type": "execute_result"
    }
   ],
   "source": [
    "#extracting age\n",
    "df_Age=df.drop(columns=['gender','fever','cough','city']).values\n",
    "df_Age.shape\n",
    "#df_Age"
   ]
  },
  {
   "cell_type": "code",
   "execution_count": 11,
   "id": "0c5c9898",
   "metadata": {},
   "outputs": [
    {
     "data": {
      "text/plain": [
       "(100, 8)"
      ]
     },
     "execution_count": 11,
     "metadata": {},
     "output_type": "execute_result"
    }
   ],
   "source": [
    "df_transformed=np.concatenate((df_Age,df_fever,df_gender_city,df_cough),axis=1)\n",
    "#also the test data\n",
    "df_transformed.shape\n",
    "#df_transformed"
   ]
  },
  {
   "cell_type": "code",
   "execution_count": 12,
   "id": "b601751e",
   "metadata": {},
   "outputs": [],
   "source": [
    "#new_df=pd.DataFrame(df_transformed,columns=df.columns)"
   ]
  },
  {
   "cell_type": "markdown",
   "id": "a63437df",
   "metadata": {},
   "source": [
    "# Mentos Zindagi"
   ]
  },
  {
   "cell_type": "code",
   "execution_count": 13,
   "id": "5836fc12",
   "metadata": {},
   "outputs": [],
   "source": [
    "from sklearn.compose import ColumnTransformer"
   ]
  },
  {
   "cell_type": "code",
   "execution_count": 14,
   "id": "83abc842",
   "metadata": {},
   "outputs": [],
   "source": [
    "transformer=ColumnTransformer(transformers=[\n",
    "    ('tnf1',SimpleImputer(),['fever']),\n",
    "    ('tnf2',OrdinalEncoder(categories=[['Mild','Strong']]),['cough']),\n",
    "    ('tnf3',OneHotEncoder(sparse=False,drop='first'),['gender','city'])\n",
    "],remainder='passthrough')"
   ]
  },
  {
   "cell_type": "code",
   "execution_count": 15,
   "id": "bc50082c",
   "metadata": {},
   "outputs": [
    {
     "data": {
      "text/plain": [
       "(100, 8)"
      ]
     },
     "execution_count": 15,
     "metadata": {},
     "output_type": "execute_result"
    }
   ],
   "source": [
    "transformer.fit_transform(df).shape"
   ]
  },
  {
   "cell_type": "code",
   "execution_count": 16,
   "id": "094798c1",
   "metadata": {},
   "outputs": [],
   "source": [
    "#transformer.get_feature_names()"
   ]
  },
  {
   "cell_type": "raw",
   "id": "5a86e2c5",
   "metadata": {},
   "source": []
  },
  {
   "cell_type": "code",
   "execution_count": 17,
   "id": "57f649ea",
   "metadata": {},
   "outputs": [],
   "source": [
    "# transformer=ColumnTransformer(transformers=[\n",
    "#     ('tnf1',OneHotEncoder(sparse=False,drop='first'),['gender','city'])\n",
    "# ],remainder='passthrough')"
   ]
  },
  {
   "cell_type": "code",
   "execution_count": 18,
   "id": "bed3da67",
   "metadata": {},
   "outputs": [],
   "source": [
    "#newdf=pd.DataFrame(transfromer.fit_transform)"
   ]
  }
 ],
 "metadata": {
  "kernelspec": {
   "display_name": "Python 3 (ipykernel)",
   "language": "python",
   "name": "python3"
  },
  "language_info": {
   "codemirror_mode": {
    "name": "ipython",
    "version": 3
   },
   "file_extension": ".py",
   "mimetype": "text/x-python",
   "name": "python",
   "nbconvert_exporter": "python",
   "pygments_lexer": "ipython3",
   "version": "3.9.12"
  }
 },
 "nbformat": 4,
 "nbformat_minor": 5
}
