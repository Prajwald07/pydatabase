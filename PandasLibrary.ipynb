{
 "cells": [
  {
   "cell_type": "markdown",
   "id": "e3708e8e",
   "metadata": {},
   "source": [
    "# Pandas Series"
   ]
  },
  {
   "cell_type": "code",
   "execution_count": 4,
   "id": "9f491f94",
   "metadata": {},
   "outputs": [
    {
     "name": "stdout",
     "output_type": "stream",
     "text": [
      "0    1\n",
      "1    2\n",
      "2    3\n",
      "3    4\n",
      "4    5\n",
      "dtype: int64\n",
      "0    a\n",
      "1    b\n",
      "2    c\n",
      "3    d\n",
      "4    e\n",
      "dtype: object\n"
     ]
    }
   ],
   "source": [
    "import numpy as np\n",
    "import pandas as pd\n",
    "s=pd.Series([1,2,3,4,5])\n",
    "print(s)\n",
    "a=pd.Series(['a','b','c','d','e'])\n",
    "print(a)"
   ]
  },
  {
   "cell_type": "code",
   "execution_count": 5,
   "id": "1167825f",
   "metadata": {},
   "outputs": [
    {
     "name": "stdout",
     "output_type": "stream",
     "text": [
      "0     23\n",
      "1     45\n",
      "2     65\n",
      "3     43\n",
      "4     10\n",
      "5     15\n",
      "6     21\n",
      "7     37\n",
      "8      9\n",
      "9      4\n",
      "10    11\n",
      "dtype: int64\n"
     ]
    }
   ],
   "source": [
    "import numpy as np\n",
    "import pandas as pd\n",
    "score=pd.Series([23,45,65,43,10,15,21,37,9,4,11])\n",
    "print(score)\n"
   ]
  },
  {
   "cell_type": "code",
   "execution_count": 6,
   "id": "c3b33785",
   "metadata": {},
   "outputs": [
    {
     "name": "stdout",
     "output_type": "stream",
     "text": [
      "Rohit       23\n",
      "Rahul       45\n",
      "Virat       65\n",
      "Sky         43\n",
      "DK          10\n",
      "Axar        15\n",
      "Hardik      21\n",
      "Ashwin      37\n",
      "Arshdeep     9\n",
      "Chahal       4\n",
      "Kumar       11\n",
      "dtype: int64\n"
     ]
    }
   ],
   "source": [
    "import numpy as np\n",
    "import pandas as pd\n",
    "i=pd.Index(['Rohit','Rahul','Virat','Sky','DK','Axar','Hardik','Ashwin','Arshdeep','Chahal','Kumar'])\n",
    "score=pd.Series([23,45,65,43,10,15,21,37,9,4,11],index=i)\n",
    "print(score)\n"
   ]
  },
  {
   "cell_type": "markdown",
   "id": "242347c0",
   "metadata": {},
   "source": [
    "# DataFrames:"
   ]
  },
  {
   "cell_type": "code",
   "execution_count": 4,
   "id": "6e762775",
   "metadata": {},
   "outputs": [
    {
     "name": "stdout",
     "output_type": "stream",
     "text": [
      "[[0 1 2]\n",
      " [3 4 5]\n",
      " [6 7 8]]\n",
      "   A  B  C\n",
      "a  0  1  2\n",
      "b  3  4  5\n",
      "c  6  7  8\n"
     ]
    }
   ],
   "source": [
    "import numpy as np\n",
    "import pandas as pd\n",
    "arr=np.arange(0,9).reshape(3,3)\n",
    "print(arr)    #Numpy ndarray\n",
    "df=pd.DataFrame(arr,index=['a','b','c'],columns=['A','B','C'])\n",
    "print(df)     #Pandas data frame\n"
   ]
  },
  {
   "cell_type": "code",
   "execution_count": 5,
   "id": "031cd619",
   "metadata": {},
   "outputs": [
    {
     "name": "stdout",
     "output_type": "stream",
     "text": [
      "         OSA  Python  SE  Java\n",
      "Rahul     23      24  20    19\n",
      "Krishna   20      24  25    21\n",
      "Abhinav   19      22  23    18\n"
     ]
    }
   ],
   "source": [
    "import numpy as np\n",
    "import pandas as pd\n",
    "df=pd.DataFrame([[23,24,20,19],[20,24,25,21],[19,22,23,18]], index=['Rahul','Krishna','Abhinav'], columns=['OSA','Python','SE','Java'])\n",
    "print(df)"
   ]
  },
  {
   "cell_type": "code",
   "execution_count": 6,
   "id": "12716104",
   "metadata": {},
   "outputs": [
    {
     "name": "stdout",
     "output_type": "stream",
     "text": [
      "    OSA  Python\n",
      "0  23.0      20\n",
      "1  20.0      23\n",
      "2  19.0      25\n",
      "3   NaN      20\n"
     ]
    }
   ],
   "source": [
    "import numpy as np\n",
    "import pandas as pd\n",
    "ser1=pd.Series([23,20,19])\n",
    "ser2=pd.Series([20,23,25,20])\n",
    "print(pd.DataFrame({\"OSA\":ser1,\"Python\":ser2}))"
   ]
  },
  {
   "cell_type": "markdown",
   "id": "6a783849",
   "metadata": {},
   "source": [
    "# Create DataFrame containing Infotmation about cities"
   ]
  },
  {
   "cell_type": "code",
   "execution_count": 8,
   "id": "e8a438fd",
   "metadata": {},
   "outputs": [
    {
     "name": "stdout",
     "output_type": "stream",
     "text": [
      "            Population      Capital\n",
      "Karnataka         6.72    Bangalore\n",
      "Maharashtra      12.54       Mumbai\n",
      "Gujarat            7.0  Gandhinagar\n"
     ]
    }
   ],
   "source": [
    "import numpy as np\n",
    "import pandas as pd\n",
    "i=pd.Index(['Karnataka','Maharashtra','Gujarat'])\n",
    "#print(i)\n",
    "pop=pd.Series(['6.72','12.54','7.0'],index=i, name=\"Population\")\n",
    "#print(pop)\n",
    "cap=pd.Series(['Bangalore','Mumbai','Gandhinagar'],index=i, name=\"Capital\")\n",
    "#print(cap)\n",
    "#df=pd.DataFrame ([pop,cap])     #will not display in proper format\n",
    "#df=pd.DataFrame ([pop,cap]).T   #will Display in proper format but columns names missing\n",
    "df=pd.DataFrame({\"Population\":pop, \"Capital\":cap})\n",
    "#df=pd.DataFrame([['6.72','Bangalore'],[.12.54,'Mumbai'],['7.0','Gandhinagar']],index=[\"Karnataka\",'Maharashtra',''Gandhinagar],columns=['Population','Capital'])#creating dataframe in one line\n",
    "print(df)"
   ]
  },
  {
   "cell_type": "markdown",
   "id": "c71d05e4",
   "metadata": {},
   "source": [
    "# How to Add new Data to series"
   ]
  },
  {
   "cell_type": "code",
   "execution_count": 10,
   "id": "b7e411b5",
   "metadata": {},
   "outputs": [
    {
     "name": "stderr",
     "output_type": "stream",
     "text": [
      "C:\\Users\\CS-L2-PC05\\AppData\\Local\\Temp\\ipykernel_6448\\2480367972.py:4: FutureWarning: The series.append method is deprecated and will be removed from pandas in a future version. Use pandas.concat instead.\n",
      "  pop.append(pd.Series({\"TamilNadu\":8.9}))\n"
     ]
    },
    {
     "data": {
      "text/plain": [
       "Karnataka       6.72\n",
       "Maharashtra    12.54\n",
       "Gujarat          7.0\n",
       "TamilNadu        8.9\n",
       "dtype: object"
      ]
     },
     "execution_count": 10,
     "metadata": {},
     "output_type": "execute_result"
    }
   ],
   "source": [
    "import numpy as np\n",
    "import pandas as pd\n",
    "#print(pop)\n",
    "pop.append(pd.Series({\"TamilNadu\":8.9}))\n",
    "#print(pop)\n",
    "\n",
    "# How to Add new Data to series"
   ]
  },
  {
   "cell_type": "markdown",
   "id": "158e5612",
   "metadata": {},
   "source": [
    "# How to Add new Data to series"
   ]
  },
  {
   "cell_type": "markdown",
   "id": "dcf65cbb",
   "metadata": {},
   "source": [
    "Method 1"
   ]
  },
  {
   "cell_type": "code",
   "execution_count": 11,
   "id": "d727dbc3",
   "metadata": {},
   "outputs": [
    {
     "name": "stdout",
     "output_type": "stream",
     "text": [
      "               Population      Capital\n",
      "Karnataka            6.72    Bangalore\n",
      "Maharashtra        12.54;       Mumbai\n",
      "Gujarat               7.0  Gandhinagar\n",
      "TamilNadu             8.9      Chennai\n",
      "Andhra Pradesh      12.54    Hyderabad\n"
     ]
    },
    {
     "name": "stderr",
     "output_type": "stream",
     "text": [
      "C:\\Users\\CS-L2-PC05\\AppData\\Local\\Temp\\ipykernel_6448\\2173967018.py:5: FutureWarning: The frame.append method is deprecated and will be removed from pandas in a future version. Use pandas.concat instead.\n",
      "  print(df.append(pd.DataFrame([['8.9','Chennai'],['12.54','Hyderabad']],index=['TamilNadu','Andhra Pradesh'],columns=['Population','Capital'])))\n"
     ]
    }
   ],
   "source": [
    "import numpy as np\n",
    "import pandas as pd\n",
    "df=pd.DataFrame([['6.72','Bangalore'],['12.54;','Mumbai'],['7.0','Gandhinagar']],index=['Karnataka','Maharashtra','Gujarat'],columns=['Population','Capital'])\n",
    "#print(df)\n",
    "print(df.append(pd.DataFrame([['8.9','Chennai'],['12.54','Hyderabad']],index=['TamilNadu','Andhra Pradesh'],columns=['Population','Capital'])))\n"
   ]
  },
  {
   "cell_type": "markdown",
   "id": "6c12cbb2",
   "metadata": {},
   "source": [
    "Method 2"
   ]
  },
  {
   "cell_type": "code",
   "execution_count": 12,
   "id": "b01dac33",
   "metadata": {},
   "outputs": [
    {
     "name": "stdout",
     "output_type": "stream",
     "text": [
      "            Population      Capital\n",
      "Karnataka         6.72    Bangalore\n",
      "Maharashtra      12.54       Mumbai\n",
      "Gujarat            7.0  Gandhinagar\n",
      "               Population      Capital\n",
      "Karnataka            6.72    Bangalore\n",
      "Maharashtra         12.54       Mumbai\n",
      "Gujarat               7.0  Gandhinagar\n",
      "TamilNadu             8.9      Chennai\n",
      "Andhra Pradesh       12.6    Hyderabad\n"
     ]
    },
    {
     "name": "stderr",
     "output_type": "stream",
     "text": [
      "C:\\Users\\CS-L2-PC05\\AppData\\Local\\Temp\\ipykernel_6448\\455407473.py:8: FutureWarning: The frame.append method is deprecated and will be removed from pandas in a future version. Use pandas.concat instead.\n",
      "  print(df.append(pd.DataFrame({\"Population\":pd.Series({\"TamilNadu\":8.9,\"Andhra Pradesh\":12.6}),\"Capital\":pd.Series({\"TamilNadu\":\"Chennai\",\"Andhra Pradesh\":\"Hyderabad\"})})))\n"
     ]
    }
   ],
   "source": [
    "import numpy as np\n",
    "import pandas as pd\n",
    "i=pd.Index(['Karnataka','Maharashtra','Gujarat'])\n",
    "pop=pd.Series(['6.72','12.54','7.0'],index=i, name=\"Capital\")\n",
    "cap=pd.Series(['Bangalore','Mumbai','Gandhinagar'],index=i, name=\"Capital\")\n",
    "df=pd.DataFrame({\"Population\":pop,\"Capital\":cap})\n",
    "print(df)\n",
    "print(df.append(pd.DataFrame({\"Population\":pd.Series({\"TamilNadu\":8.9,\"Andhra Pradesh\":12.6}),\"Capital\":pd.Series({\"TamilNadu\":\"Chennai\",\"Andhra Pradesh\":\"Hyderabad\"})})))"
   ]
  },
  {
   "cell_type": "code",
   "execution_count": null,
   "id": "39b53739",
   "metadata": {},
   "outputs": [],
   "source": []
  }
 ],
 "metadata": {
  "kernelspec": {
   "display_name": "Python 3 (ipykernel)",
   "language": "python",
   "name": "python3"
  },
  "language_info": {
   "codemirror_mode": {
    "name": "ipython",
    "version": 3
   },
   "file_extension": ".py",
   "mimetype": "text/x-python",
   "name": "python",
   "nbconvert_exporter": "python",
   "pygments_lexer": "ipython3",
   "version": "3.9.12"
  }
 },
 "nbformat": 4,
 "nbformat_minor": 5
}
