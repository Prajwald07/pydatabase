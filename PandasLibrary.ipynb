{
 "cells": [
  {
   "cell_type": "markdown",
   "id": "e3708e8e",
   "metadata": {},
   "source": [
    "# Pandas Series"
   ]
  },
  {
   "cell_type": "code",
   "execution_count": 4,
   "id": "9f491f94",
   "metadata": {},
   "outputs": [
    {
     "name": "stdout",
     "output_type": "stream",
     "text": [
      "0    1\n",
      "1    2\n",
      "2    3\n",
      "3    4\n",
      "4    5\n",
      "dtype: int64\n",
      "0    a\n",
      "1    b\n",
      "2    c\n",
      "3    d\n",
      "4    e\n",
      "dtype: object\n"
     ]
    }
   ],
   "source": [
    "import numpy as np\n",
    "import pandas as pd\n",
    "s=pd.Series([1,2,3,4,5])\n",
    "print(s)\n",
    "a=pd.Series(['a','b','c','d','e'])\n",
    "print(a)"
   ]
  },
  {
   "cell_type": "code",
   "execution_count": 5,
   "id": "1167825f",
   "metadata": {},
   "outputs": [
    {
     "name": "stdout",
     "output_type": "stream",
     "text": [
      "0     23\n",
      "1     45\n",
      "2     65\n",
      "3     43\n",
      "4     10\n",
      "5     15\n",
      "6     21\n",
      "7     37\n",
      "8      9\n",
      "9      4\n",
      "10    11\n",
      "dtype: int64\n"
     ]
    }
   ],
   "source": [
    "import numpy as np\n",
    "import pandas as pd\n",
    "score=pd.Series([23,45,65,43,10,15,21,37,9,4,11])\n",
    "print(score)\n"
   ]
  },
  {
   "cell_type": "code",
   "execution_count": 6,
   "id": "c3b33785",
   "metadata": {},
   "outputs": [
    {
     "name": "stdout",
     "output_type": "stream",
     "text": [
      "Rohit       23\n",
      "Rahul       45\n",
      "Virat       65\n",
      "Sky         43\n",
      "DK          10\n",
      "Axar        15\n",
      "Hardik      21\n",
      "Ashwin      37\n",
      "Arshdeep     9\n",
      "Chahal       4\n",
      "Kumar       11\n",
      "dtype: int64\n"
     ]
    }
   ],
   "source": [
    "import numpy as np\n",
    "import pandas as pd\n",
    "i=pd.Index(['Rohit','Rahul','Virat','Sky','DK','Axar','Hardik','Ashwin','Arshdeep','Chahal','Kumar'])\n",
    "score=pd.Series([23,45,65,43,10,15,21,37,9,4,11],index=i)\n",
    "print(score)\n"
   ]
  },
  {
   "cell_type": "markdown",
   "id": "242347c0",
   "metadata": {},
   "source": [
    "# DataFrames:"
   ]
  },
  {
   "cell_type": "code",
   "execution_count": 4,
   "id": "6e762775",
   "metadata": {},
   "outputs": [
    {
     "name": "stdout",
     "output_type": "stream",
     "text": [
      "[[0 1 2]\n",
      " [3 4 5]\n",
      " [6 7 8]]\n",
      "   A  B  C\n",
      "a  0  1  2\n",
      "b  3  4  5\n",
      "c  6  7  8\n"
     ]
    }
   ],
   "source": [
    "import numpy as np\n",
    "import pandas as pd\n",
    "arr=np.arange(0,9).reshape(3,3)\n",
    "print(arr)    #Numpy ndarray\n",
    "df=pd.DataFrame(arr,index=['a','b','c'],columns=['A','B','C'])\n",
    "print(df)     #Pandas data frame\n"
   ]
  },
  {
   "cell_type": "code",
   "execution_count": 5,
   "id": "031cd619",
   "metadata": {},
   "outputs": [
    {
     "name": "stdout",
     "output_type": "stream",
     "text": [
      "         OSA  Python  SE  Java\n",
      "Rahul     23      24  20    19\n",
      "Krishna   20      24  25    21\n",
      "Abhinav   19      22  23    18\n"
     ]
    }
   ],
   "source": [
    "import numpy as np\n",
    "import pandas as pd\n",
    "df=pd.DataFrame([[23,24,20,19],[20,24,25,21],[19,22,23,18]], index=['Rahul','Krishna','Abhinav'], columns=['OSA','Python','SE','Java'])\n",
    "print(df)"
   ]
  },
  {
   "cell_type": "code",
   "execution_count": 6,
   "id": "12716104",
   "metadata": {},
   "outputs": [
    {
     "name": "stdout",
     "output_type": "stream",
     "text": [
      "    OSA  Python\n",
      "0  23.0      20\n",
      "1  20.0      23\n",
      "2  19.0      25\n",
      "3   NaN      20\n"
     ]
    }
   ],
   "source": [
    "import numpy as np\n",
    "import pandas as pd\n",
    "ser1=pd.Series([23,20,19])\n",
    "ser2=pd.Series([20,23,25,20])\n",
    "print(pd.DataFrame({\"OSA\":ser1,\"Python\":ser2}))"
   ]
  },
  {
   "cell_type": "markdown",
   "id": "6a783849",
   "metadata": {},
   "source": [
    "# Create DataFrame containing Infotmation about cities"
   ]
  },
  {
   "cell_type": "code",
   "execution_count": 8,
   "id": "e8a438fd",
   "metadata": {},
   "outputs": [
    {
     "name": "stdout",
     "output_type": "stream",
     "text": [
      "            Population      Capital\n",
      "Karnataka         6.72    Bangalore\n",
      "Maharashtra      12.54       Mumbai\n",
      "Gujarat            7.0  Gandhinagar\n"
     ]
    }
   ],
   "source": [
    "import numpy as np\n",
    "import pandas as pd\n",
    "i=pd.Index(['Karnataka','Maharashtra','Gujarat'])\n",
    "#print(i)\n",
    "pop=pd.Series(['6.72','12.54','7.0'],index=i, name=\"Population\")\n",
    "#print(pop)\n",
    "cap=pd.Series(['Bangalore','Mumbai','Gandhinagar'],index=i, name=\"Capital\")\n",
    "#print(cap)\n",
    "#df=pd.DataFrame ([pop,cap])     #will not display in proper format\n",
    "#df=pd.DataFrame ([pop,cap]).T   #will Display in proper format but columns names missing\n",
    "df=pd.DataFrame({\"Population\":pop, \"Capital\":cap})\n",
    "#df=pd.DataFrame([['6.72','Bangalore'],[.12.54,'Mumbai'],['7.0','Gandhinagar']],index=[\"Karnataka\",'Maharashtra',''Gandhinagar],columns=['Population','Capital'])#creating dataframe in one line\n",
    "print(df)"
   ]
  },
  {
   "cell_type": "markdown",
   "id": "c71d05e4",
   "metadata": {},
   "source": [
    "# How to Add new Data to series"
   ]
  },
  {
   "cell_type": "code",
   "execution_count": 10,
   "id": "b7e411b5",
   "metadata": {},
   "outputs": [
    {
     "name": "stderr",
     "output_type": "stream",
     "text": [
      "C:\\Users\\CS-L2-PC05\\AppData\\Local\\Temp\\ipykernel_6448\\2480367972.py:4: FutureWarning: The series.append method is deprecated and will be removed from pandas in a future version. Use pandas.concat instead.\n",
      "  pop.append(pd.Series({\"TamilNadu\":8.9}))\n"
     ]
    },
    {
     "data": {
      "text/plain": [
       "Karnataka       6.72\n",
       "Maharashtra    12.54\n",
       "Gujarat          7.0\n",
       "TamilNadu        8.9\n",
       "dtype: object"
      ]
     },
     "execution_count": 10,
     "metadata": {},
     "output_type": "execute_result"
    }
   ],
   "source": [
    "import numpy as np\n",
    "import pandas as pd\n",
    "#print(pop)\n",
    "pop.append(pd.Series({\"TamilNadu\":8.9}))\n",
    "#print(pop)\n",
    "\n",
    "# How to Add new Data to series"
   ]
  },
  {
   "cell_type": "markdown",
   "id": "158e5612",
   "metadata": {},
   "source": [
    "# How to Add new Data to series"
   ]
  },
  {
   "cell_type": "markdown",
   "id": "dcf65cbb",
   "metadata": {},
   "source": [
    "Method 1"
   ]
  },
  {
   "cell_type": "code",
   "execution_count": 11,
   "id": "d727dbc3",
   "metadata": {},
   "outputs": [
    {
     "name": "stdout",
     "output_type": "stream",
     "text": [
      "               Population      Capital\n",
      "Karnataka            6.72    Bangalore\n",
      "Maharashtra        12.54;       Mumbai\n",
      "Gujarat               7.0  Gandhinagar\n",
      "TamilNadu             8.9      Chennai\n",
      "Andhra Pradesh      12.54    Hyderabad\n"
     ]
    },
    {
     "name": "stderr",
     "output_type": "stream",
     "text": [
      "C:\\Users\\CS-L2-PC05\\AppData\\Local\\Temp\\ipykernel_6448\\2173967018.py:5: FutureWarning: The frame.append method is deprecated and will be removed from pandas in a future version. Use pandas.concat instead.\n",
      "  print(df.append(pd.DataFrame([['8.9','Chennai'],['12.54','Hyderabad']],index=['TamilNadu','Andhra Pradesh'],columns=['Population','Capital'])))\n"
     ]
    }
   ],
   "source": [
    "import numpy as np\n",
    "import pandas as pd\n",
    "df=pd.DataFrame([['6.72','Bangalore'],['12.54;','Mumbai'],['7.0','Gandhinagar']],index=['Karnataka','Maharashtra','Gujarat'],columns=['Population','Capital'])\n",
    "#print(df)\n",
    "print(df.append(pd.DataFrame([['8.9','Chennai'],['12.54','Hyderabad']],index=['TamilNadu','Andhra Pradesh'],columns=['Population','Capital'])))\n"
   ]
  },
  {
   "cell_type": "markdown",
   "id": "6c12cbb2",
   "metadata": {},
   "source": [
    "Method 2"
   ]
  },
  {
   "cell_type": "code",
   "execution_count": 12,
   "id": "b01dac33",
   "metadata": {},
   "outputs": [
    {
     "name": "stdout",
     "output_type": "stream",
     "text": [
      "            Population      Capital\n",
      "Karnataka         6.72    Bangalore\n",
      "Maharashtra      12.54       Mumbai\n",
      "Gujarat            7.0  Gandhinagar\n",
      "               Population      Capital\n",
      "Karnataka            6.72    Bangalore\n",
      "Maharashtra         12.54       Mumbai\n",
      "Gujarat               7.0  Gandhinagar\n",
      "TamilNadu             8.9      Chennai\n",
      "Andhra Pradesh       12.6    Hyderabad\n"
     ]
    },
    {
     "name": "stderr",
     "output_type": "stream",
     "text": [
      "C:\\Users\\CS-L2-PC05\\AppData\\Local\\Temp\\ipykernel_6448\\455407473.py:8: FutureWarning: The frame.append method is deprecated and will be removed from pandas in a future version. Use pandas.concat instead.\n",
      "  print(df.append(pd.DataFrame({\"Population\":pd.Series({\"TamilNadu\":8.9,\"Andhra Pradesh\":12.6}),\"Capital\":pd.Series({\"TamilNadu\":\"Chennai\",\"Andhra Pradesh\":\"Hyderabad\"})})))\n"
     ]
    }
   ],
   "source": [
    "import numpy as np\n",
    "import pandas as pd\n",
    "i=pd.Index(['Karnataka','Maharashtra','Gujarat'])\n",
    "pop=pd.Series(['6.72','12.54','7.0'],index=i, name=\"Capital\")\n",
    "cap=pd.Series(['Bangalore','Mumbai','Gandhinagar'],index=i, name=\"Capital\")\n",
    "df=pd.DataFrame({\"Population\":pop,\"Capital\":cap})\n",
    "print(df)\n",
    "print(df.append(pd.DataFrame({\"Population\":pd.Series({\"TamilNadu\":8.9,\"Andhra Pradesh\":12.6}),\"Capital\":pd.Series({\"TamilNadu\":\"Chennai\",\"Andhra Pradesh\":\"Hyderabad\"})})))"
   ]
  },
  {
   "cell_type": "markdown",
   "id": "688b17d4",
   "metadata": {},
   "source": [
    "# Concat new column to Dataframe"
   ]
  },
  {
   "cell_type": "code",
   "execution_count": 3,
   "id": "39b53739",
   "metadata": {},
   "outputs": [
    {
     "name": "stdout",
     "output_type": "stream",
     "text": [
      "            Population      Capital Area      CM\n",
      "Karnataka         6.72    Bangalore  2.1   Bomai\n",
      "Maharashtra      12.54       Mumbai  3.1  Shinde\n",
      "Gujarat            7.8  Gandhinagar  5.5     XYZ\n"
     ]
    }
   ],
   "source": [
    "import numpy as np\n",
    "import pandas as pd\n",
    "i=pd.Index(['Karnataka','Maharashtra','Gujarat'])\n",
    "pop=pd.Series(['6.72','12.54','7.8'],index=i,name='Population')\n",
    "cap=pd.Series(['Bangalore','Mumbai','Gandhinagar'],index=i,name='Capital')\n",
    "df=pd.DataFrame({'Population':pop,'Capital':cap})\n",
    "#print(df)\n",
    "df1=pd.concat(\n",
    "        [df,pd.DataFrame({\n",
    "                            \"Area\":pd.Series(['2.1','3.1','5.5'],index=pop.index),\n",
    "                            \"CM\":pd.Series(['Bomai','Shinde','XYZ'],index=pop.index)\n",
    "                        })\n",
    "        ],axis=1\n",
    "    )\n",
    "df1.to_csv('cities.csv')\n",
    "print(df1)"
   ]
  },
  {
   "cell_type": "markdown",
   "id": "c38678de",
   "metadata": {},
   "source": [
    "# Subsetting"
   ]
  },
  {
   "cell_type": "code",
   "execution_count": 8,
   "id": "80d559ce",
   "metadata": {},
   "outputs": [],
   "source": [
    "import numpy as np\n",
    "import pandas as pd\n",
    "from pandas import Series, DataFrame"
   ]
  },
  {
   "cell_type": "code",
   "execution_count": 9,
   "id": "e7397d00",
   "metadata": {},
   "outputs": [
    {
     "data": {
      "text/plain": [
       "alpha      0\n",
       "beta       1\n",
       "gama       2\n",
       "delta      3\n",
       "elipson    4\n",
       "dtype: int32"
      ]
     },
     "execution_count": 9,
     "metadata": {},
     "output_type": "execute_result"
    }
   ],
   "source": [
    "srs = Series(np.arange(5), index=[\"alpha\",\"beta\",\"gama\",\"delta\",\"elipson\"])\n",
    "srs"
   ]
  },
  {
   "cell_type": "code",
   "execution_count": 10,
   "id": "e3495dc8",
   "metadata": {},
   "outputs": [
    {
     "data": {
      "text/plain": [
       "alpha    0\n",
       "beta     1\n",
       "dtype: int32"
      ]
     },
     "execution_count": 10,
     "metadata": {},
     "output_type": "execute_result"
    }
   ],
   "source": [
    "srs[:2]"
   ]
  },
  {
   "cell_type": "code",
   "execution_count": 11,
   "id": "371b3f3a",
   "metadata": {},
   "outputs": [
    {
     "data": {
      "text/plain": [
       "beta     1\n",
       "delta    3\n",
       "dtype: int32"
      ]
     },
     "execution_count": 11,
     "metadata": {},
     "output_type": "execute_result"
    }
   ],
   "source": [
    "srs[[\"beta\",\"delta\"]]"
   ]
  },
  {
   "cell_type": "code",
   "execution_count": 12,
   "id": "adedd32c",
   "metadata": {},
   "outputs": [
    {
     "data": {
      "text/plain": [
       "beta     1\n",
       "gama     2\n",
       "delta    3\n",
       "dtype: int32"
      ]
     },
     "execution_count": 12,
     "metadata": {},
     "output_type": "execute_result"
    }
   ],
   "source": [
    "srs[\"beta\":\"delta\"]"
   ]
  },
  {
   "cell_type": "code",
   "execution_count": 13,
   "id": "b5242d3d",
   "metadata": {},
   "outputs": [
    {
     "name": "stdout",
     "output_type": "stream",
     "text": [
      "alpha      0\n",
      "beta       1\n",
      "gama       2\n",
      "delta      3\n",
      "elipson    4\n",
      "dtype: int32\n"
     ]
    },
    {
     "data": {
      "text/plain": [
       "elipson    4\n",
       "dtype: int32"
      ]
     },
     "execution_count": 13,
     "metadata": {},
     "output_type": "execute_result"
    }
   ],
   "source": [
    "print(srs)\n",
    "srs[srs > 3]"
   ]
  },
  {
   "cell_type": "code",
   "execution_count": 14,
   "id": "e59ca853",
   "metadata": {},
   "outputs": [
    {
     "data": {
      "text/plain": [
       "alpha      False\n",
       "beta       False\n",
       "gama       False\n",
       "delta      False\n",
       "elipson     True\n",
       "dtype: bool"
      ]
     },
     "execution_count": 14,
     "metadata": {},
     "output_type": "execute_result"
    }
   ],
   "source": [
    "srs > 3"
   ]
  },
  {
   "cell_type": "code",
   "execution_count": 15,
   "id": "5e395544",
   "metadata": {},
   "outputs": [
    {
     "data": {
      "text/plain": [
       "3     zero\n",
       "2      one\n",
       "4      two\n",
       "0    three\n",
       "1     four\n",
       "dtype: object"
      ]
     },
     "execution_count": 15,
     "metadata": {},
     "output_type": "execute_result"
    }
   ],
   "source": [
    "srs2 = Series([\"zero\",\"one\",\"two\",\"three\",\"four\"], index=[3,2,4,0,1])\n",
    "srs2"
   ]
  },
  {
   "cell_type": "code",
   "execution_count": 16,
   "id": "65207e71",
   "metadata": {},
   "outputs": [
    {
     "data": {
      "text/plain": [
       "4      two\n",
       "0    three\n",
       "dtype: object"
      ]
     },
     "execution_count": 16,
     "metadata": {},
     "output_type": "execute_result"
    }
   ],
   "source": [
    "srs2[2:4]    #Ambiguous"
   ]
  },
  {
   "cell_type": "code",
   "execution_count": 17,
   "id": "ca48b8c9",
   "metadata": {},
   "outputs": [
    {
     "data": {
      "text/plain": [
       "2      one\n",
       "4      two\n",
       "0    three\n",
       "dtype: object"
      ]
     },
     "execution_count": 17,
     "metadata": {},
     "output_type": "execute_result"
    }
   ],
   "source": [
    "srs2.iloc[1:4]"
   ]
  },
  {
   "cell_type": "code",
   "execution_count": 18,
   "id": "ed3907a7",
   "metadata": {},
   "outputs": [
    {
     "data": {
      "text/plain": [
       "3     zero\n",
       "2      one\n",
       "4      two\n",
       "0    three\n",
       "dtype: object"
      ]
     },
     "execution_count": 18,
     "metadata": {},
     "output_type": "execute_result"
    }
   ],
   "source": [
    "srs2.loc[3:0]"
   ]
  },
  {
   "cell_type": "code",
   "execution_count": 19,
   "id": "f360962e",
   "metadata": {},
   "outputs": [
    {
     "data": {
      "text/html": [
       "<div>\n",
       "<style scoped>\n",
       "    .dataframe tbody tr th:only-of-type {\n",
       "        vertical-align: middle;\n",
       "    }\n",
       "\n",
       "    .dataframe tbody tr th {\n",
       "        vertical-align: top;\n",
       "    }\n",
       "\n",
       "    .dataframe thead th {\n",
       "        text-align: right;\n",
       "    }\n",
       "</style>\n",
       "<table border=\"1\" class=\"dataframe\">\n",
       "  <thead>\n",
       "    <tr style=\"text-align: right;\">\n",
       "      <th></th>\n",
       "      <th>AAA</th>\n",
       "      <th>BBB</th>\n",
       "      <th>CCC</th>\n",
       "    </tr>\n",
       "  </thead>\n",
       "  <tbody>\n",
       "    <tr>\n",
       "      <th>alpha</th>\n",
       "      <td>0</td>\n",
       "      <td>1</td>\n",
       "      <td>2</td>\n",
       "    </tr>\n",
       "    <tr>\n",
       "      <th>beta</th>\n",
       "      <td>3</td>\n",
       "      <td>4</td>\n",
       "      <td>5</td>\n",
       "    </tr>\n",
       "    <tr>\n",
       "      <th>gama</th>\n",
       "      <td>6</td>\n",
       "      <td>7</td>\n",
       "      <td>8</td>\n",
       "    </tr>\n",
       "    <tr>\n",
       "      <th>delta</th>\n",
       "      <td>9</td>\n",
       "      <td>10</td>\n",
       "      <td>11</td>\n",
       "    </tr>\n",
       "    <tr>\n",
       "      <th>epsilon</th>\n",
       "      <td>12</td>\n",
       "      <td>13</td>\n",
       "      <td>14</td>\n",
       "    </tr>\n",
       "    <tr>\n",
       "      <th>zeta</th>\n",
       "      <td>15</td>\n",
       "      <td>16</td>\n",
       "      <td>17</td>\n",
       "    </tr>\n",
       "    <tr>\n",
       "      <th>eta</th>\n",
       "      <td>18</td>\n",
       "      <td>19</td>\n",
       "      <td>20</td>\n",
       "    </tr>\n",
       "  </tbody>\n",
       "</table>\n",
       "</div>"
      ],
      "text/plain": [
       "         AAA  BBB  CCC\n",
       "alpha      0    1    2\n",
       "beta       3    4    5\n",
       "gama       6    7    8\n",
       "delta      9   10   11\n",
       "epsilon   12   13   14\n",
       "zeta      15   16   17\n",
       "eta       18   19   20"
      ]
     },
     "execution_count": 19,
     "metadata": {},
     "output_type": "execute_result"
    }
   ],
   "source": [
    "df = DataFrame(np.arange(21).reshape(7,3), columns=['AAA','BBB','CCC'], index=[\"alpha\",\"beta\",\"gama\",\"delta\",\"epsilon\",\"zeta\",\"eta\"])\n",
    "df"
   ]
  },
  {
   "cell_type": "code",
   "execution_count": 20,
   "id": "ad0bce6f",
   "metadata": {},
   "outputs": [
    {
     "data": {
      "text/plain": [
       "alpha       0\n",
       "beta        3\n",
       "gama        6\n",
       "delta       9\n",
       "epsilon    12\n",
       "zeta       15\n",
       "eta        18\n",
       "Name: AAA, dtype: int32"
      ]
     },
     "execution_count": 20,
     "metadata": {},
     "output_type": "execute_result"
    }
   ],
   "source": [
    "df.AAA"
   ]
  },
  {
   "cell_type": "code",
   "execution_count": 21,
   "id": "cbffeae0",
   "metadata": {},
   "outputs": [
    {
     "data": {
      "text/plain": [
       "alpha       0\n",
       "beta        3\n",
       "gama        6\n",
       "delta       9\n",
       "epsilon    12\n",
       "zeta       15\n",
       "eta        18\n",
       "Name: AAA, dtype: int32"
      ]
     },
     "execution_count": 21,
     "metadata": {},
     "output_type": "execute_result"
    }
   ],
   "source": [
    "df['AAA']"
   ]
  },
  {
   "cell_type": "code",
   "execution_count": 22,
   "id": "fe4c6159",
   "metadata": {},
   "outputs": [
    {
     "data": {
      "text/html": [
       "<div>\n",
       "<style scoped>\n",
       "    .dataframe tbody tr th:only-of-type {\n",
       "        vertical-align: middle;\n",
       "    }\n",
       "\n",
       "    .dataframe tbody tr th {\n",
       "        vertical-align: top;\n",
       "    }\n",
       "\n",
       "    .dataframe thead th {\n",
       "        text-align: right;\n",
       "    }\n",
       "</style>\n",
       "<table border=\"1\" class=\"dataframe\">\n",
       "  <thead>\n",
       "    <tr style=\"text-align: right;\">\n",
       "      <th></th>\n",
       "      <th>BBB</th>\n",
       "      <th>CCC</th>\n",
       "    </tr>\n",
       "  </thead>\n",
       "  <tbody>\n",
       "    <tr>\n",
       "      <th>alpha</th>\n",
       "      <td>1</td>\n",
       "      <td>2</td>\n",
       "    </tr>\n",
       "    <tr>\n",
       "      <th>beta</th>\n",
       "      <td>4</td>\n",
       "      <td>5</td>\n",
       "    </tr>\n",
       "    <tr>\n",
       "      <th>gama</th>\n",
       "      <td>7</td>\n",
       "      <td>8</td>\n",
       "    </tr>\n",
       "    <tr>\n",
       "      <th>delta</th>\n",
       "      <td>10</td>\n",
       "      <td>11</td>\n",
       "    </tr>\n",
       "    <tr>\n",
       "      <th>epsilon</th>\n",
       "      <td>13</td>\n",
       "      <td>14</td>\n",
       "    </tr>\n",
       "    <tr>\n",
       "      <th>zeta</th>\n",
       "      <td>16</td>\n",
       "      <td>17</td>\n",
       "    </tr>\n",
       "    <tr>\n",
       "      <th>eta</th>\n",
       "      <td>19</td>\n",
       "      <td>20</td>\n",
       "    </tr>\n",
       "  </tbody>\n",
       "</table>\n",
       "</div>"
      ],
      "text/plain": [
       "         BBB  CCC\n",
       "alpha      1    2\n",
       "beta       4    5\n",
       "gama       7    8\n",
       "delta     10   11\n",
       "epsilon   13   14\n",
       "zeta      16   17\n",
       "eta       19   20"
      ]
     },
     "execution_count": 22,
     "metadata": {},
     "output_type": "execute_result"
    }
   ],
   "source": [
    "df[['BBB','CCC']]"
   ]
  },
  {
   "cell_type": "code",
   "execution_count": 23,
   "id": "495334d3",
   "metadata": {},
   "outputs": [
    {
     "data": {
      "text/html": [
       "<div>\n",
       "<style scoped>\n",
       "    .dataframe tbody tr th:only-of-type {\n",
       "        vertical-align: middle;\n",
       "    }\n",
       "\n",
       "    .dataframe tbody tr th {\n",
       "        vertical-align: top;\n",
       "    }\n",
       "\n",
       "    .dataframe thead th {\n",
       "        text-align: right;\n",
       "    }\n",
       "</style>\n",
       "<table border=\"1\" class=\"dataframe\">\n",
       "  <thead>\n",
       "    <tr style=\"text-align: right;\">\n",
       "      <th></th>\n",
       "      <th>BBB</th>\n",
       "    </tr>\n",
       "  </thead>\n",
       "  <tbody>\n",
       "    <tr>\n",
       "      <th>beta</th>\n",
       "      <td>4</td>\n",
       "    </tr>\n",
       "    <tr>\n",
       "      <th>gama</th>\n",
       "      <td>7</td>\n",
       "    </tr>\n",
       "  </tbody>\n",
       "</table>\n",
       "</div>"
      ],
      "text/plain": [
       "      BBB\n",
       "beta    4\n",
       "gama    7"
      ]
     },
     "execution_count": 23,
     "metadata": {},
     "output_type": "execute_result"
    }
   ],
   "source": [
    "df.iloc[1:3, 1:2]"
   ]
  },
  {
   "cell_type": "code",
   "execution_count": 24,
   "id": "c43f8cd7",
   "metadata": {},
   "outputs": [
    {
     "data": {
      "text/html": [
       "<div>\n",
       "<style scoped>\n",
       "    .dataframe tbody tr th:only-of-type {\n",
       "        vertical-align: middle;\n",
       "    }\n",
       "\n",
       "    .dataframe tbody tr th {\n",
       "        vertical-align: top;\n",
       "    }\n",
       "\n",
       "    .dataframe thead th {\n",
       "        text-align: right;\n",
       "    }\n",
       "</style>\n",
       "<table border=\"1\" class=\"dataframe\">\n",
       "  <thead>\n",
       "    <tr style=\"text-align: right;\">\n",
       "      <th></th>\n",
       "      <th>BBB</th>\n",
       "      <th>CCC</th>\n",
       "    </tr>\n",
       "  </thead>\n",
       "  <tbody>\n",
       "    <tr>\n",
       "      <th>beta</th>\n",
       "      <td>4</td>\n",
       "      <td>5</td>\n",
       "    </tr>\n",
       "    <tr>\n",
       "      <th>gama</th>\n",
       "      <td>7</td>\n",
       "      <td>8</td>\n",
       "    </tr>\n",
       "    <tr>\n",
       "      <th>delta</th>\n",
       "      <td>10</td>\n",
       "      <td>11</td>\n",
       "    </tr>\n",
       "  </tbody>\n",
       "</table>\n",
       "</div>"
      ],
      "text/plain": [
       "       BBB  CCC\n",
       "beta     4    5\n",
       "gama     7    8\n",
       "delta   10   11"
      ]
     },
     "execution_count": 24,
     "metadata": {},
     "output_type": "execute_result"
    }
   ],
   "source": [
    "df.loc['beta':'delta', 'BBB':'CCC']"
   ]
  },
  {
   "cell_type": "code",
   "execution_count": 25,
   "id": "f2597d75",
   "metadata": {},
   "outputs": [
    {
     "data": {
      "text/html": [
       "<div>\n",
       "<style scoped>\n",
       "    .dataframe tbody tr th:only-of-type {\n",
       "        vertical-align: middle;\n",
       "    }\n",
       "\n",
       "    .dataframe tbody tr th {\n",
       "        vertical-align: top;\n",
       "    }\n",
       "\n",
       "    .dataframe thead th {\n",
       "        text-align: right;\n",
       "    }\n",
       "</style>\n",
       "<table border=\"1\" class=\"dataframe\">\n",
       "  <thead>\n",
       "    <tr style=\"text-align: right;\">\n",
       "      <th></th>\n",
       "      <th>BBB</th>\n",
       "      <th>CCC</th>\n",
       "    </tr>\n",
       "  </thead>\n",
       "  <tbody>\n",
       "    <tr>\n",
       "      <th>alpha</th>\n",
       "      <td>1</td>\n",
       "      <td>2</td>\n",
       "    </tr>\n",
       "    <tr>\n",
       "      <th>beta</th>\n",
       "      <td>4</td>\n",
       "      <td>5</td>\n",
       "    </tr>\n",
       "    <tr>\n",
       "      <th>gama</th>\n",
       "      <td>7</td>\n",
       "      <td>8</td>\n",
       "    </tr>\n",
       "    <tr>\n",
       "      <th>delta</th>\n",
       "      <td>10</td>\n",
       "      <td>11</td>\n",
       "    </tr>\n",
       "    <tr>\n",
       "      <th>epsilon</th>\n",
       "      <td>13</td>\n",
       "      <td>14</td>\n",
       "    </tr>\n",
       "    <tr>\n",
       "      <th>zeta</th>\n",
       "      <td>16</td>\n",
       "      <td>17</td>\n",
       "    </tr>\n",
       "    <tr>\n",
       "      <th>eta</th>\n",
       "      <td>19</td>\n",
       "      <td>20</td>\n",
       "    </tr>\n",
       "  </tbody>\n",
       "</table>\n",
       "</div>"
      ],
      "text/plain": [
       "         BBB  CCC\n",
       "alpha      1    2\n",
       "beta       4    5\n",
       "gama       7    8\n",
       "delta     10   11\n",
       "epsilon   13   14\n",
       "zeta      16   17\n",
       "eta       19   20"
      ]
     },
     "execution_count": 25,
     "metadata": {},
     "output_type": "execute_result"
    }
   ],
   "source": [
    "df.iloc[:, 1:3]"
   ]
  },
  {
   "cell_type": "code",
   "execution_count": 26,
   "id": "fc9ae545",
   "metadata": {},
   "outputs": [
    {
     "data": {
      "text/html": [
       "<div>\n",
       "<style scoped>\n",
       "    .dataframe tbody tr th:only-of-type {\n",
       "        vertical-align: middle;\n",
       "    }\n",
       "\n",
       "    .dataframe tbody tr th {\n",
       "        vertical-align: top;\n",
       "    }\n",
       "\n",
       "    .dataframe thead th {\n",
       "        text-align: right;\n",
       "    }\n",
       "</style>\n",
       "<table border=\"1\" class=\"dataframe\">\n",
       "  <thead>\n",
       "    <tr style=\"text-align: right;\">\n",
       "      <th></th>\n",
       "      <th>BBB</th>\n",
       "      <th>CCC</th>\n",
       "    </tr>\n",
       "  </thead>\n",
       "  <tbody>\n",
       "    <tr>\n",
       "      <th>alpha</th>\n",
       "      <td>1</td>\n",
       "      <td>2</td>\n",
       "    </tr>\n",
       "    <tr>\n",
       "      <th>gama</th>\n",
       "      <td>7</td>\n",
       "      <td>8</td>\n",
       "    </tr>\n",
       "    <tr>\n",
       "      <th>zeta</th>\n",
       "      <td>16</td>\n",
       "      <td>17</td>\n",
       "    </tr>\n",
       "  </tbody>\n",
       "</table>\n",
       "</div>"
      ],
      "text/plain": [
       "       BBB  CCC\n",
       "alpha    1    2\n",
       "gama     7    8\n",
       "zeta    16   17"
      ]
     },
     "execution_count": 26,
     "metadata": {},
     "output_type": "execute_result"
    }
   ],
   "source": [
    "df.iloc[:, 1:3].loc[['alpha', 'gama', 'zeta']]"
   ]
  },
  {
   "cell_type": "code",
   "execution_count": 27,
   "id": "18768ae0",
   "metadata": {},
   "outputs": [
    {
     "data": {
      "text/html": [
       "<div>\n",
       "<style scoped>\n",
       "    .dataframe tbody tr th:only-of-type {\n",
       "        vertical-align: middle;\n",
       "    }\n",
       "\n",
       "    .dataframe tbody tr th {\n",
       "        vertical-align: top;\n",
       "    }\n",
       "\n",
       "    .dataframe thead th {\n",
       "        text-align: right;\n",
       "    }\n",
       "</style>\n",
       "<table border=\"1\" class=\"dataframe\">\n",
       "  <thead>\n",
       "    <tr style=\"text-align: right;\">\n",
       "      <th></th>\n",
       "      <th>BBB</th>\n",
       "      <th>CCC</th>\n",
       "    </tr>\n",
       "  </thead>\n",
       "  <tbody>\n",
       "    <tr>\n",
       "      <th>alpha</th>\n",
       "      <td>1</td>\n",
       "      <td>2</td>\n",
       "    </tr>\n",
       "    <tr>\n",
       "      <th>gama</th>\n",
       "      <td>7</td>\n",
       "      <td>8</td>\n",
       "    </tr>\n",
       "    <tr>\n",
       "      <th>zeta</th>\n",
       "      <td>16</td>\n",
       "      <td>17</td>\n",
       "    </tr>\n",
       "  </tbody>\n",
       "</table>\n",
       "</div>"
      ],
      "text/plain": [
       "       BBB  CCC\n",
       "alpha    1    2\n",
       "gama     7    8\n",
       "zeta    16   17"
      ]
     },
     "execution_count": 27,
     "metadata": {},
     "output_type": "execute_result"
    }
   ],
   "source": [
    "df2 = df.iloc[:, 1:3].loc[['alpha', 'gama', 'zeta']].copy()\n",
    "df2"
   ]
  },
  {
   "cell_type": "code",
   "execution_count": 28,
   "id": "31673d57",
   "metadata": {},
   "outputs": [
    {
     "data": {
      "text/html": [
       "<div>\n",
       "<style scoped>\n",
       "    .dataframe tbody tr th:only-of-type {\n",
       "        vertical-align: middle;\n",
       "    }\n",
       "\n",
       "    .dataframe tbody tr th {\n",
       "        vertical-align: top;\n",
       "    }\n",
       "\n",
       "    .dataframe thead th {\n",
       "        text-align: right;\n",
       "    }\n",
       "</style>\n",
       "<table border=\"1\" class=\"dataframe\">\n",
       "  <thead>\n",
       "    <tr style=\"text-align: right;\">\n",
       "      <th></th>\n",
       "      <th>BBB</th>\n",
       "      <th>CCC</th>\n",
       "    </tr>\n",
       "  </thead>\n",
       "  <tbody>\n",
       "    <tr>\n",
       "      <th>alpha</th>\n",
       "      <td>1</td>\n",
       "      <td>11</td>\n",
       "    </tr>\n",
       "    <tr>\n",
       "      <th>gama</th>\n",
       "      <td>7</td>\n",
       "      <td>18</td>\n",
       "    </tr>\n",
       "    <tr>\n",
       "      <th>zeta</th>\n",
       "      <td>16</td>\n",
       "      <td>5</td>\n",
       "    </tr>\n",
       "  </tbody>\n",
       "</table>\n",
       "</div>"
      ],
      "text/plain": [
       "       BBB  CCC\n",
       "alpha    1   11\n",
       "gama     7   18\n",
       "zeta    16    5"
      ]
     },
     "execution_count": 28,
     "metadata": {},
     "output_type": "execute_result"
    }
   ],
   "source": [
    "df2['CCC'] = Series({'alpha':11, 'gama':18, 'zeta':5})\n",
    "df2"
   ]
  },
  {
   "cell_type": "code",
   "execution_count": 29,
   "id": "96e2a7ca",
   "metadata": {},
   "outputs": [
    {
     "data": {
      "text/html": [
       "<div>\n",
       "<style scoped>\n",
       "    .dataframe tbody tr th:only-of-type {\n",
       "        vertical-align: middle;\n",
       "    }\n",
       "\n",
       "    .dataframe tbody tr th {\n",
       "        vertical-align: top;\n",
       "    }\n",
       "\n",
       "    .dataframe thead th {\n",
       "        text-align: right;\n",
       "    }\n",
       "</style>\n",
       "<table border=\"1\" class=\"dataframe\">\n",
       "  <thead>\n",
       "    <tr style=\"text-align: right;\">\n",
       "      <th></th>\n",
       "      <th>BBB</th>\n",
       "      <th>CCC</th>\n",
       "    </tr>\n",
       "  </thead>\n",
       "  <tbody>\n",
       "    <tr>\n",
       "      <th>alpha</th>\n",
       "      <td>1</td>\n",
       "      <td>11</td>\n",
       "    </tr>\n",
       "    <tr>\n",
       "      <th>gama</th>\n",
       "      <td>7</td>\n",
       "      <td>2</td>\n",
       "    </tr>\n",
       "    <tr>\n",
       "      <th>zeta</th>\n",
       "      <td>16</td>\n",
       "      <td>5</td>\n",
       "    </tr>\n",
       "  </tbody>\n",
       "</table>\n",
       "</div>"
      ],
      "text/plain": [
       "       BBB  CCC\n",
       "alpha    1   11\n",
       "gama     7    2\n",
       "zeta    16    5"
      ]
     },
     "execution_count": 29,
     "metadata": {},
     "output_type": "execute_result"
    }
   ],
   "source": [
    "df2.iloc[1, 1] = 2\n",
    "df2"
   ]
  },
  {
   "cell_type": "code",
   "execution_count": 30,
   "id": "413e17ad",
   "metadata": {},
   "outputs": [
    {
     "data": {
      "text/html": [
       "<div>\n",
       "<style scoped>\n",
       "    .dataframe tbody tr th:only-of-type {\n",
       "        vertical-align: middle;\n",
       "    }\n",
       "\n",
       "    .dataframe tbody tr th {\n",
       "        vertical-align: top;\n",
       "    }\n",
       "\n",
       "    .dataframe thead th {\n",
       "        text-align: right;\n",
       "    }\n",
       "</style>\n",
       "<table border=\"1\" class=\"dataframe\">\n",
       "  <thead>\n",
       "    <tr style=\"text-align: right;\">\n",
       "      <th></th>\n",
       "      <th>BBB</th>\n",
       "      <th>CCC</th>\n",
       "    </tr>\n",
       "  </thead>\n",
       "  <tbody>\n",
       "    <tr>\n",
       "      <th>alpha</th>\n",
       "      <td>1</td>\n",
       "      <td>0</td>\n",
       "    </tr>\n",
       "    <tr>\n",
       "      <th>gama</th>\n",
       "      <td>7</td>\n",
       "      <td>0</td>\n",
       "    </tr>\n",
       "    <tr>\n",
       "      <th>zeta</th>\n",
       "      <td>16</td>\n",
       "      <td>0</td>\n",
       "    </tr>\n",
       "  </tbody>\n",
       "</table>\n",
       "</div>"
      ],
      "text/plain": [
       "       BBB  CCC\n",
       "alpha    1    0\n",
       "gama     7    0\n",
       "zeta    16    0"
      ]
     },
     "execution_count": 30,
     "metadata": {},
     "output_type": "execute_result"
    }
   ],
   "source": [
    "df2.iloc[:, 1] = 0\n",
    "df2"
   ]
  },
  {
   "cell_type": "code",
   "execution_count": null,
   "id": "ef7dff14",
   "metadata": {},
   "outputs": [],
   "source": []
  }
 ],
 "metadata": {
  "kernelspec": {
   "display_name": "Python 3 (ipykernel)",
   "language": "python",
   "name": "python3"
  },
  "language_info": {
   "codemirror_mode": {
    "name": "ipython",
    "version": 3
   },
   "file_extension": ".py",
   "mimetype": "text/x-python",
   "name": "python",
   "nbconvert_exporter": "python",
   "pygments_lexer": "ipython3",
   "version": "3.9.12"
  }
 },
 "nbformat": 4,
 "nbformat_minor": 5
}
