{
 "cells": [
  {
   "cell_type": "markdown",
   "id": "45e790ed",
   "metadata": {},
   "source": [
    "# import mysql connector "
   ]
  },
  {
   "cell_type": "code",
   "execution_count": 1,
   "id": "a13a82dc",
   "metadata": {},
   "outputs": [],
   "source": [
    "import mysql.connector as con"
   ]
  },
  {
   "cell_type": "markdown",
   "id": "e4afa813",
   "metadata": {},
   "source": [
    "# connectioin to database"
   ]
  },
  {
   "cell_type": "code",
   "execution_count": 2,
   "id": "f9b6a900",
   "metadata": {},
   "outputs": [
    {
     "name": "stdout",
     "output_type": "stream",
     "text": [
      "<mysql.connector.connection_cext.CMySQLConnection object at 0x000001CD69B0BE20>\n"
     ]
    }
   ],
   "source": [
    "import mysql.connector as con\n",
    "new_db=con.connect(\n",
    "    host=\"localhost\",\n",
    "    user=\"root\",\n",
    "    password=\"root\"\n",
    ")\n",
    "print (new_db)"
   ]
  },
  {
   "cell_type": "markdown",
   "id": "b53bc3cf",
   "metadata": {},
   "source": [
    "# creating database"
   ]
  },
  {
   "cell_type": "code",
   "execution_count": null,
   "id": "27995cc4",
   "metadata": {},
   "outputs": [],
   "source": [
    "import mysql.connector as con\n",
    "new_db=con.connect(\n",
    "    host=\"localhost\",\n",
    "    user=\"root\",\n",
    "    password=\"root\"\n",
    ")\n",
    "my_cursor=new_db.cursor()\n",
    "my_cursor.execute(\"SHOW DATABASES\")\n",
    "for a in my_cursor:\n",
    "    print(a)"
   ]
  },
  {
   "cell_type": "markdown",
   "id": "ac4bee95",
   "metadata": {},
   "source": [
    "# creating tables and show data"
   ]
  },
  {
   "cell_type": "code",
   "execution_count": null,
   "id": "796b4864",
   "metadata": {},
   "outputs": [],
   "source": [
    "import mysql.connector as con\n",
    "new_db=con.connect(\n",
    "    host=\"localhost\",\n",
    "    user=\"root\",\n",
    "    password=\"root\",\n",
    "    database=\"college\"\n",
    ")\n",
    "my_cursor=new_db.cursor()\n",
    "query=\"CREATE TABLE student (name VARCHAR(200), Regno VARCHAR(10))\"\n",
    "my_cursor.execute(query)\n"
   ]
  },
  {
   "cell_type": "markdown",
   "id": "224deffd",
   "metadata": {},
   "source": [
    "# list all tables in database"
   ]
  },
  {
   "cell_type": "code",
   "execution_count": null,
   "id": "6ef7218e",
   "metadata": {},
   "outputs": [],
   "source": [
    "import mysql.connector as con\n",
    "new_db=con.connect(\n",
    "    host=\"localhost\",\n",
    "    user=\"root\",\n",
    "    password=\"root\",\n",
    "    database=\"college\"\n",
    ")\n",
    "my_cursor=new_db.cursor()\n",
    "query=\"SHOW TABLES\"\n",
    "my_cursor.execute(query)\n",
    "for n in my_cursor:\n",
    "    print(n)"
   ]
  },
  {
   "cell_type": "markdown",
   "id": "33e7d9d5",
   "metadata": {},
   "source": [
    "# inserting data into tables"
   ]
  },
  {
   "cell_type": "code",
   "execution_count": null,
   "id": "a90bfa72",
   "metadata": {},
   "outputs": [],
   "source": [
    "import mysql.connector as con\n",
    "new_db=con.connect(\n",
    "    host=\"localhost\",\n",
    "    user=\"root\",\n",
    "    password=\"root\",\n",
    "    database=\"college\"\n",
    ")\n",
    "new_cursor=new_db.cursor()\n",
    "query=\"INSERT INTO student (name,Regno) VALUES (%s,%s)\"\n",
    "values=('vivek','393CS20032')\n",
    "new_cursor.execute(query,values)\n",
    "new_db.commit()\n",
    "print(new_cursor.rowcount,\"new record inserted\")\n"
   ]
  },
  {
   "cell_type": "markdown",
   "id": "423a5589",
   "metadata": {},
   "source": [
    "# inserting multiple values into the table"
   ]
  },
  {
   "cell_type": "code",
   "execution_count": null,
   "id": "b18a6d39",
   "metadata": {},
   "outputs": [],
   "source": [
    "import mysql.connector as con\n",
    "new_db=con.connect(\n",
    "    host=\"localhost\",\n",
    "    user=\"root\",\n",
    "    password=\"root\",\n",
    "    database=\"college\"\n",
    ")\n",
    "new_cursor=new_db.cursor()\n",
    "query=\"INSERT INTO student (name,Regno) VALUES (%s,%s)\"\n",
    "values=[(\"avadhoot\",\"393CS20013\"),\n",
    "        (\"jahid\",\"393CS20008\"),\n",
    "        (\"tanishk\",\"393CS20034\"),\n",
    "        (\"nihal\",\"393CS20018\")\n",
    "       ]\n",
    "new_cursor.executemany(query,values)\n",
    "new_db.commit()\n",
    "print(new_cursor.rowcount,\"new record inserted\")\n"
   ]
  },
  {
   "cell_type": "markdown",
   "id": "9d616a8d",
   "metadata": {},
   "source": [
    "# displaying records from table"
   ]
  },
  {
   "cell_type": "code",
   "execution_count": null,
   "id": "396e496e",
   "metadata": {},
   "outputs": [],
   "source": [
    "import mysql.connector as con\n",
    "new_db=con.connect(\n",
    "    host=\"localhost\",\n",
    "    user=\"root\",\n",
    "    password=\"root\",\n",
    "    database=\"college\"\n",
    ")\n",
    "my_cursor=new_db.cursor()\n",
    "query=\"SELECT * FROM student\"\n",
    "my_cursor.execute(query)\n",
    "for n in my_cursor:\n",
    "    print(n)"
   ]
  },
  {
   "cell_type": "markdown",
   "id": "2916910b",
   "metadata": {},
   "source": [
    "# display particular record from database"
   ]
  },
  {
   "cell_type": "code",
   "execution_count": null,
   "id": "6d997016",
   "metadata": {},
   "outputs": [],
   "source": [
    "import mysql.connector as con\n",
    "new_db=con.connect(\n",
    "    host=\"localhost\",\n",
    "    user=\"root\",\n",
    "    password=\"root\",\n",
    "    database=\"college\"\n",
    ")\n",
    "my_cursor=new_db.cursor()\n",
    "query=\"SELECT name FROM student\"\n",
    "my_cursor.execute(query)\n",
    "for n in my_cursor:\n",
    "    print(n)"
   ]
  },
  {
   "cell_type": "code",
   "execution_count": null,
   "id": "64d1944e",
   "metadata": {},
   "outputs": [],
   "source": []
  }
 ],
 "metadata": {
  "kernelspec": {
   "display_name": "Python 3 (ipykernel)",
   "language": "python",
   "name": "python3"
  },
  "language_info": {
   "codemirror_mode": {
    "name": "ipython",
    "version": 3
   },
   "file_extension": ".py",
   "mimetype": "text/x-python",
   "name": "python",
   "nbconvert_exporter": "python",
   "pygments_lexer": "ipython3",
   "version": "3.9.12"
  }
 },
 "nbformat": 4,
 "nbformat_minor": 5
}
